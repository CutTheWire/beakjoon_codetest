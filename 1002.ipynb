{
  "nbformat": 4,
  "nbformat_minor": 0,
  "metadata": {
    "colab": {
      "provenance": [],
      "authorship_tag": "ABX9TyOlvrffBN5VuU2aUatMcftf",
      "include_colab_link": true
    },
    "kernelspec": {
      "name": "python3",
      "display_name": "Python 3"
    },
    "language_info": {
      "name": "python"
    }
  },
  "cells": [
    {
      "cell_type": "markdown",
      "metadata": {
        "id": "view-in-github",
        "colab_type": "text"
      },
      "source": [
        "<a href=\"https://colab.research.google.com/github/CutTheWire/beakjoon_codetest/blob/main/1002.ipynb\" target=\"_parent\"><img src=\"https://colab.research.google.com/assets/colab-badge.svg\" alt=\"Open In Colab\"/></a>"
      ]
    },
    {
      "cell_type": "markdown",
      "source": [
        "#1002 문제\n",
        "조규현과 백승환은 터렛에 근무하는 직원이다. 하지만 워낙 존재감이 없어서 인구수는 차지하지 않는다. 다음은 조규현과 백승환의 사진이다.\n",
        "\n",
        "이석원은 조규현과 백승환에게 상대편 마린(류재명)의 위치를 계산하라는 명령을 내렸다. 조규현과 백승환은 각각 자신의 터렛 위치에서 현재 적까지의 거리를 계산했다.\n",
        "\n",
        "조규현의 좌표\n",
        "$(x_1, y_1)$와 백승환의 좌표\n",
        "$(x_2, y_2)$가 주어지고, 조규현이 계산한 류재명과의 거리\n",
        "$r_1$과 백승환이 계산한 류재명과의 거리\n",
        "$r_2$가 주어졌을 때, 류재명이 있을 수 있는 좌표의 수를 출력하는 프로그램을 작성하시오.\n",
        "\n",
        "## 입력\n",
        "첫째 줄에 테스트 케이스의 개수\n",
        "$T$가 주어진다. 각 테스트 케이스는 다음과 같이 이루어져 있다.\n",
        "\n",
        "한 줄에 공백으로 구분 된 여섯 정수\n",
        "$x_1$,\n",
        "$y_1$,\n",
        "$r_1$,\n",
        "$x_2$,\n",
        "$y_2$,\n",
        "$r_2$가 주어진다.\n",
        "\n",
        "## 출력\n",
        "각 테스트 케이스마다 류재명이 있을 수 있는 위치의 수를 출력한다. 만약 류재명이 있을 수 있는 위치의 개수가 무한대일 경우에는\n",
        "$-1$ 출력한다.\n",
        "\n",
        "## 제한\n",
        "\n",
        "$-10\\,000 ≤ x_1, y_1, x_2, y_2 ≤ 10\\,000$\n",
        "\n",
        "$1 ≤ r_1, r_2 ≤ 10\\,000$"
      ],
      "metadata": {
        "id": "pGvAf0IxGCuI"
      }
    },
    {
      "cell_type": "code",
      "source": [
        "num = input()\n",
        "for _ in range(int(num)):\n",
        "  x1,y1,r1,x2,y2,r2 = map(int,input().split())\n",
        "\n",
        "  xn = abs(x1-x2)\n",
        "  yn = abs(y1-y2)\n",
        "  if x1 == x2 and y1 == y2 and r1 == r2:\n",
        "    print(-1)\n",
        "  elif x1 == x2 and y1 == y2 and r1 != r2:\n",
        "    print(0)\n",
        "  else:\n",
        "    if (r1+r2)**2 == xn**2 + yn**2 or (r1-r2)**2 == xn**2 + yn**2:\n",
        "      print(1)\n",
        "    elif (r1-r2)**2 < xn**2 + yn**2 < (r1+r2)**2:\n",
        "       print(2)\n",
        "    else:\n",
        "      print(0)"
      ],
      "metadata": {
        "colab": {
          "base_uri": "https://localhost:8080/"
        },
        "id": "zpKEgL1mLoTh",
        "outputId": "f962b86c-eb07-454c-82b7-726da39a74e7"
      },
      "execution_count": 10,
      "outputs": [
        {
          "output_type": "stream",
          "name": "stdout",
          "text": [
            "6\n",
            "0 0 1 0 0 1\n",
            "-1\n",
            "0 0 1 0 0 2\n",
            "0\n",
            "0 0 1 2 0 1\n",
            "1\n",
            "0 0 3 1 0 2\n",
            "1\n",
            "0 0 3 4 0 3\n",
            "2\n",
            "0 0 1 5 0 1\n",
            "0\n"
          ]
        }
      ]
    },
    {
      "cell_type": "markdown",
      "source": [
        "# 테스트 케이스\n",
        "\n",
        "## 무한대의 접점을 가지는 경우\n",
        "- 입력: 1 0 0 1 0 0 1\n",
        "- 출력: **-1**\n",
        "\n",
        "## 접점이 없는 경우 (중심은 같으나 반지름이 다름)\n",
        "- 입력: 1 0 0 1 0 0 2\n",
        "- 출력: **0**\n",
        "\n",
        "## 정확히 1개의 접점을 가지는 경우 (외접)\n",
        "- 입력: 1 0 0 1 2 0 1\n",
        "- 출력: **1**\n",
        "\n",
        "## 정확히 1개의 접점을 가지는 경우 (내접)\n",
        "- 입력: 1 0 0 3 1 0 2\n",
        "- 출력: **1**\n",
        "\n",
        "## 2개의 접점을 가지는 경우\n",
        "- 입력: 1 0 0 3 4 0 3\n",
        "- 출력: **2**\n",
        "\n",
        "## 접점이 없는 그 외의 경우\n",
        "- 입력: 1 0 0 1 5 0 1\n",
        "- 출력: **0**"
      ],
      "metadata": {
        "id": "DEfmN29pO6f0"
      }
    }
  ]
}